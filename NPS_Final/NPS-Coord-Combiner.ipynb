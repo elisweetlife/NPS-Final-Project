{
 "cells": [
  {
   "cell_type": "code",
   "execution_count": 1,
   "metadata": {},
   "outputs": [],
   "source": [
    "import pandas as pd\n",
    "nps_df = pd.read_csv(\"/Users/eli/Desktop/NPS_Final/NPS_Coords-Combine.csv\")\n",
    "\n",
    "#cereal_df2 = pd.read_csv(\"data/cereal.csv\")"
   ]
  },
  {
   "cell_type": "code",
   "execution_count": 4,
   "metadata": {},
   "outputs": [
    {
     "data": {
      "text/html": [
       "<div>\n",
       "<style scoped>\n",
       "    .dataframe tbody tr th:only-of-type {\n",
       "        vertical-align: middle;\n",
       "    }\n",
       "\n",
       "    .dataframe tbody tr th {\n",
       "        vertical-align: top;\n",
       "    }\n",
       "\n",
       "    .dataframe thead th {\n",
       "        text-align: right;\n",
       "    }\n",
       "</style>\n",
       "<table border=\"1\" class=\"dataframe\">\n",
       "  <thead>\n",
       "    <tr style=\"text-align: right;\">\n",
       "      <th></th>\n",
       "      <th>parkcode</th>\n",
       "      <th>fullname</th>\n",
       "      <th>latitude</th>\n",
       "      <th>longitude</th>\n",
       "    </tr>\n",
       "  </thead>\n",
       "  <tbody>\n",
       "    <tr>\n",
       "      <td>0</td>\n",
       "      <td>acad</td>\n",
       "      <td>Acadia National Park</td>\n",
       "      <td>44.3386</td>\n",
       "      <td>-68.2733</td>\n",
       "    </tr>\n",
       "    <tr>\n",
       "      <td>1</td>\n",
       "      <td>alag</td>\n",
       "      <td>Alagnak Wild River</td>\n",
       "      <td>59.0047</td>\n",
       "      <td>-156.8603</td>\n",
       "    </tr>\n",
       "    <tr>\n",
       "      <td>2</td>\n",
       "      <td>alfl</td>\n",
       "      <td>Alibates Flint Quarries National Monument</td>\n",
       "      <td>35.5836</td>\n",
       "      <td>-101.6698</td>\n",
       "    </tr>\n",
       "    <tr>\n",
       "      <td>3</td>\n",
       "      <td>alka</td>\n",
       "      <td>Ala Kahakai National Historic Trail</td>\n",
       "      <td>19.6868</td>\n",
       "      <td>-156.0326</td>\n",
       "    </tr>\n",
       "    <tr>\n",
       "      <td>4</td>\n",
       "      <td>amis</td>\n",
       "      <td>Amistad National Recreation Area</td>\n",
       "      <td>29.4956</td>\n",
       "      <td>-100.9953</td>\n",
       "    </tr>\n",
       "  </tbody>\n",
       "</table>\n",
       "</div>"
      ],
      "text/plain": [
       "  parkcode                                   fullname  latitude  longitude\n",
       "0     acad                       Acadia National Park   44.3386   -68.2733\n",
       "1     alag                         Alagnak Wild River   59.0047  -156.8603\n",
       "2     alfl  Alibates Flint Quarries National Monument   35.5836  -101.6698\n",
       "3     alka        Ala Kahakai National Historic Trail   19.6868  -156.0326\n",
       "4     amis           Amistad National Recreation Area   29.4956  -100.9953"
      ]
     },
     "execution_count": 4,
     "metadata": {},
     "output_type": "execute_result"
    }
   ],
   "source": [
    "nps_df.head()"
   ]
  },
  {
   "cell_type": "code",
   "execution_count": null,
   "metadata": {
    "scrolled": true
   },
   "outputs": [],
   "source": [
    "#nps_df[\"location\"] = nps_df[\"latitude\"] , nps_df[\"longitude\"]\n",
    "#nps_df.head()\n",
    "\n",
    "#df['col3'].str.strip(',').str.join('').astype(int)\n",
    "#nps_df.location.apply(lambda x : \"{:,}\".format(x))"
   ]
  },
  {
   "cell_type": "code",
   "execution_count": 9,
   "metadata": {},
   "outputs": [
    {
     "data": {
      "text/html": [
       "<div>\n",
       "<style scoped>\n",
       "    .dataframe tbody tr th:only-of-type {\n",
       "        vertical-align: middle;\n",
       "    }\n",
       "\n",
       "    .dataframe tbody tr th {\n",
       "        vertical-align: top;\n",
       "    }\n",
       "\n",
       "    .dataframe thead th {\n",
       "        text-align: right;\n",
       "    }\n",
       "</style>\n",
       "<table border=\"1\" class=\"dataframe\">\n",
       "  <thead>\n",
       "    <tr style=\"text-align: right;\">\n",
       "      <th></th>\n",
       "      <th>parkcode</th>\n",
       "      <th>fullname</th>\n",
       "      <th>latitude</th>\n",
       "      <th>longitude</th>\n",
       "      <th>location</th>\n",
       "    </tr>\n",
       "  </thead>\n",
       "  <tbody>\n",
       "    <tr>\n",
       "      <td>0</td>\n",
       "      <td>acad</td>\n",
       "      <td>Acadia National Park</td>\n",
       "      <td>44.3386</td>\n",
       "      <td>-68.2733</td>\n",
       "      <td>44.3386, -68.2733</td>\n",
       "    </tr>\n",
       "    <tr>\n",
       "      <td>1</td>\n",
       "      <td>alag</td>\n",
       "      <td>Alagnak Wild River</td>\n",
       "      <td>59.0047</td>\n",
       "      <td>-156.8603</td>\n",
       "      <td>59.0047, -156.8603</td>\n",
       "    </tr>\n",
       "    <tr>\n",
       "      <td>2</td>\n",
       "      <td>alfl</td>\n",
       "      <td>Alibates Flint Quarries National Monument</td>\n",
       "      <td>35.5836</td>\n",
       "      <td>-101.6698</td>\n",
       "      <td>35.5836, -101.6698</td>\n",
       "    </tr>\n",
       "    <tr>\n",
       "      <td>3</td>\n",
       "      <td>alka</td>\n",
       "      <td>Ala Kahakai National Historic Trail</td>\n",
       "      <td>19.6868</td>\n",
       "      <td>-156.0326</td>\n",
       "      <td>19.6868, -156.0326</td>\n",
       "    </tr>\n",
       "    <tr>\n",
       "      <td>4</td>\n",
       "      <td>amis</td>\n",
       "      <td>Amistad National Recreation Area</td>\n",
       "      <td>29.4956</td>\n",
       "      <td>-100.9953</td>\n",
       "      <td>29.4956, -100.9953</td>\n",
       "    </tr>\n",
       "  </tbody>\n",
       "</table>\n",
       "</div>"
      ],
      "text/plain": [
       "  parkcode                                   fullname  latitude  longitude  \\\n",
       "0     acad                       Acadia National Park   44.3386   -68.2733   \n",
       "1     alag                         Alagnak Wild River   59.0047  -156.8603   \n",
       "2     alfl  Alibates Flint Quarries National Monument   35.5836  -101.6698   \n",
       "3     alka        Ala Kahakai National Historic Trail   19.6868  -156.0326   \n",
       "4     amis           Amistad National Recreation Area   29.4956  -100.9953   \n",
       "\n",
       "             location  \n",
       "0   44.3386, -68.2733  \n",
       "1  59.0047, -156.8603  \n",
       "2  35.5836, -101.6698  \n",
       "3  19.6868, -156.0326  \n",
       "4  29.4956, -100.9953  "
      ]
     },
     "execution_count": 9,
     "metadata": {},
     "output_type": "execute_result"
    }
   ],
   "source": [
    "#>>> df = pd.DataFrame([[2014, 1],\n",
    "#...                    [2015, 3]],\n",
    "#...                   columns=('Year', 'Quarter'))\n",
    "#>>> print(df)\n",
    "#   Year Quarter\n",
    "#0  2014       1\n",
    "#1  2015       3\n",
    "nps_df['location'] = nps_df.latitude.astype(str).str.cat(nps_df.longitude.astype(str), sep=', ')\n",
    "nps_df.head()"
   ]
  },
  {
   "cell_type": "code",
   "execution_count": 10,
   "metadata": {},
   "outputs": [],
   "source": [
    "nps_df.to_csv(index=False)\n",
    "#'name,mask,weapon\\nRaphael,red,sai\\nDonatello,purple,bo staff\\n'\n",
    "#'/Users/eli/Desktop/NPS_Final/'\n",
    "nps_df.to_csv (r'/Users/eli/Desktop/NPS_Final/export_nps_dataframe.csv', index = False, header=True)"
   ]
  },
  {
   "cell_type": "code",
   "execution_count": null,
   "metadata": {},
   "outputs": [],
   "source": []
  }
 ],
 "metadata": {
  "kernelspec": {
   "display_name": "Python 3",
   "language": "python",
   "name": "python3"
  },
  "language_info": {
   "codemirror_mode": {
    "name": "ipython",
    "version": 3
   },
   "file_extension": ".py",
   "mimetype": "text/x-python",
   "name": "python",
   "nbconvert_exporter": "python",
   "pygments_lexer": "ipython3",
   "version": "3.7.4"
  }
 },
 "nbformat": 4,
 "nbformat_minor": 2
}
